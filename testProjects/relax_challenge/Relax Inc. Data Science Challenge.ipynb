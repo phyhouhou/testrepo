{
 "cells": [
  {
   "cell_type": "markdown",
   "metadata": {},
   "source": [
    "# Introduction\n",
    "This is a take-home challenge from the Relax.Inc company. Data is given in CSV files: 'takehome_user_engagement.csv' and 'takehome_users.csv'. \n",
    "\n",
    "**Data**<br>\n",
    "'takehome_users.csv' has data on 12,000 users who signed up for the product in the last two years. <br> \n",
    "'takehome_user_engagement' has a row for each day that a user logged into the product. <br>\n",
    "Details about the data are given in 'relax_data_science_challenge.pdf'.\n",
    "\n",
    "\n",
    "**Challenge**<br>\n",
    "Define an \"adopted user\" as a user who has logged into the product on three separate days in at least one seven-day period. The challenge is to identify which factors predict future user adoption.\n",
    "\n"
   ]
  },
  {
   "cell_type": "markdown",
   "metadata": {},
   "source": [
    "# Load Data"
   ]
  },
  {
   "cell_type": "code",
   "execution_count": 1,
   "metadata": {},
   "outputs": [],
   "source": [
    "# Data wrangling\n",
    "import pandas as pd\n",
    "import numpy as np\n",
    "\n",
    "# Data visualization\n",
    "import matplotlib.pyplot as plt\n",
    "%matplotlib inline\n",
    "import seaborn as sns\n",
    "sns.set(context='paper',style='whitegrid',font_scale=2, rc={\"lines.linewidth\": 2.5})\n",
    "\n",
    "\n",
    "# Model learning\n",
    "from sklearn.model_selection import train_test_split\n",
    "from sklearn.metrics import classification_report, accuracy_score, confusion_matrix\n",
    "from sklearn.ensemble import RandomForestClassifier"
   ]
  },
  {
   "cell_type": "code",
   "execution_count": 2,
   "metadata": {
    "scrolled": false
   },
   "outputs": [
    {
     "name": "stdout",
     "output_type": "stream",
     "text": [
      "<class 'pandas.core.frame.DataFrame'>\n",
      "RangeIndex: 12000 entries, 0 to 11999\n",
      "Data columns (total 10 columns):\n",
      "object_id                     12000 non-null int64\n",
      "creation_time                 12000 non-null object\n",
      "name                          12000 non-null object\n",
      "email                         12000 non-null object\n",
      "creation_source               12000 non-null object\n",
      "last_session_creation_time    8823 non-null float64\n",
      "opted_in_to_mailing_list      12000 non-null int64\n",
      "enabled_for_marketing_drip    12000 non-null int64\n",
      "org_id                        12000 non-null int64\n",
      "invited_by_user_id            6417 non-null float64\n",
      "dtypes: float64(2), int64(4), object(4)\n",
      "memory usage: 937.6+ KB\n"
     ]
    },
    {
     "data": {
      "text/html": [
       "<div>\n",
       "<style scoped>\n",
       "    .dataframe tbody tr th:only-of-type {\n",
       "        vertical-align: middle;\n",
       "    }\n",
       "\n",
       "    .dataframe tbody tr th {\n",
       "        vertical-align: top;\n",
       "    }\n",
       "\n",
       "    .dataframe thead th {\n",
       "        text-align: right;\n",
       "    }\n",
       "</style>\n",
       "<table border=\"1\" class=\"dataframe\">\n",
       "  <thead>\n",
       "    <tr style=\"text-align: right;\">\n",
       "      <th></th>\n",
       "      <th>object_id</th>\n",
       "      <th>creation_time</th>\n",
       "      <th>name</th>\n",
       "      <th>email</th>\n",
       "      <th>creation_source</th>\n",
       "      <th>last_session_creation_time</th>\n",
       "      <th>opted_in_to_mailing_list</th>\n",
       "      <th>enabled_for_marketing_drip</th>\n",
       "      <th>org_id</th>\n",
       "      <th>invited_by_user_id</th>\n",
       "    </tr>\n",
       "  </thead>\n",
       "  <tbody>\n",
       "    <tr>\n",
       "      <th>0</th>\n",
       "      <td>1</td>\n",
       "      <td>2014-04-22 03:53:30</td>\n",
       "      <td>Clausen August</td>\n",
       "      <td>AugustCClausen@yahoo.com</td>\n",
       "      <td>GUEST_INVITE</td>\n",
       "      <td>1.398139e+09</td>\n",
       "      <td>1</td>\n",
       "      <td>0</td>\n",
       "      <td>11</td>\n",
       "      <td>10803.0</td>\n",
       "    </tr>\n",
       "    <tr>\n",
       "      <th>1</th>\n",
       "      <td>2</td>\n",
       "      <td>2013-11-15 03:45:04</td>\n",
       "      <td>Poole Matthew</td>\n",
       "      <td>MatthewPoole@gustr.com</td>\n",
       "      <td>ORG_INVITE</td>\n",
       "      <td>1.396238e+09</td>\n",
       "      <td>0</td>\n",
       "      <td>0</td>\n",
       "      <td>1</td>\n",
       "      <td>316.0</td>\n",
       "    </tr>\n",
       "    <tr>\n",
       "      <th>2</th>\n",
       "      <td>3</td>\n",
       "      <td>2013-03-19 23:14:52</td>\n",
       "      <td>Bottrill Mitchell</td>\n",
       "      <td>MitchellBottrill@gustr.com</td>\n",
       "      <td>ORG_INVITE</td>\n",
       "      <td>1.363735e+09</td>\n",
       "      <td>0</td>\n",
       "      <td>0</td>\n",
       "      <td>94</td>\n",
       "      <td>1525.0</td>\n",
       "    </tr>\n",
       "    <tr>\n",
       "      <th>3</th>\n",
       "      <td>4</td>\n",
       "      <td>2013-05-21 08:09:28</td>\n",
       "      <td>Clausen Nicklas</td>\n",
       "      <td>NicklasSClausen@yahoo.com</td>\n",
       "      <td>GUEST_INVITE</td>\n",
       "      <td>1.369210e+09</td>\n",
       "      <td>0</td>\n",
       "      <td>0</td>\n",
       "      <td>1</td>\n",
       "      <td>5151.0</td>\n",
       "    </tr>\n",
       "    <tr>\n",
       "      <th>4</th>\n",
       "      <td>5</td>\n",
       "      <td>2013-01-17 10:14:20</td>\n",
       "      <td>Raw Grace</td>\n",
       "      <td>GraceRaw@yahoo.com</td>\n",
       "      <td>GUEST_INVITE</td>\n",
       "      <td>1.358850e+09</td>\n",
       "      <td>0</td>\n",
       "      <td>0</td>\n",
       "      <td>193</td>\n",
       "      <td>5240.0</td>\n",
       "    </tr>\n",
       "  </tbody>\n",
       "</table>\n",
       "</div>"
      ],
      "text/plain": [
       "   object_id        creation_time               name  \\\n",
       "0          1  2014-04-22 03:53:30     Clausen August   \n",
       "1          2  2013-11-15 03:45:04      Poole Matthew   \n",
       "2          3  2013-03-19 23:14:52  Bottrill Mitchell   \n",
       "3          4  2013-05-21 08:09:28    Clausen Nicklas   \n",
       "4          5  2013-01-17 10:14:20          Raw Grace   \n",
       "\n",
       "                        email creation_source  last_session_creation_time  \\\n",
       "0    AugustCClausen@yahoo.com    GUEST_INVITE                1.398139e+09   \n",
       "1      MatthewPoole@gustr.com      ORG_INVITE                1.396238e+09   \n",
       "2  MitchellBottrill@gustr.com      ORG_INVITE                1.363735e+09   \n",
       "3   NicklasSClausen@yahoo.com    GUEST_INVITE                1.369210e+09   \n",
       "4          GraceRaw@yahoo.com    GUEST_INVITE                1.358850e+09   \n",
       "\n",
       "   opted_in_to_mailing_list  enabled_for_marketing_drip  org_id  \\\n",
       "0                         1                           0      11   \n",
       "1                         0                           0       1   \n",
       "2                         0                           0      94   \n",
       "3                         0                           0       1   \n",
       "4                         0                           0     193   \n",
       "\n",
       "   invited_by_user_id  \n",
       "0             10803.0  \n",
       "1               316.0  \n",
       "2              1525.0  \n",
       "3              5151.0  \n",
       "4              5240.0  "
      ]
     },
     "execution_count": 2,
     "metadata": {},
     "output_type": "execute_result"
    }
   ],
   "source": [
    "user=pd.read_csv('takehome_users.csv',encoding=\"latin1\",parse_dates=True,infer_datetime_format=True)\n",
    "user.info()\n",
    "user.head()"
   ]
  },
  {
   "cell_type": "code",
   "execution_count": 3,
   "metadata": {},
   "outputs": [
    {
     "name": "stdout",
     "output_type": "stream",
     "text": [
      "<class 'pandas.core.frame.DataFrame'>\n",
      "RangeIndex: 207917 entries, 0 to 207916\n",
      "Data columns (total 3 columns):\n",
      "time_stamp    207917 non-null object\n",
      "user_id       207917 non-null int64\n",
      "visited       207917 non-null int64\n",
      "dtypes: int64(2), object(1)\n",
      "memory usage: 4.8+ MB\n"
     ]
    },
    {
     "data": {
      "text/html": [
       "<div>\n",
       "<style scoped>\n",
       "    .dataframe tbody tr th:only-of-type {\n",
       "        vertical-align: middle;\n",
       "    }\n",
       "\n",
       "    .dataframe tbody tr th {\n",
       "        vertical-align: top;\n",
       "    }\n",
       "\n",
       "    .dataframe thead th {\n",
       "        text-align: right;\n",
       "    }\n",
       "</style>\n",
       "<table border=\"1\" class=\"dataframe\">\n",
       "  <thead>\n",
       "    <tr style=\"text-align: right;\">\n",
       "      <th></th>\n",
       "      <th>time_stamp</th>\n",
       "      <th>user_id</th>\n",
       "      <th>visited</th>\n",
       "    </tr>\n",
       "  </thead>\n",
       "  <tbody>\n",
       "    <tr>\n",
       "      <th>0</th>\n",
       "      <td>2014-04-22 03:53:30</td>\n",
       "      <td>1</td>\n",
       "      <td>1</td>\n",
       "    </tr>\n",
       "    <tr>\n",
       "      <th>1</th>\n",
       "      <td>2013-11-15 03:45:04</td>\n",
       "      <td>2</td>\n",
       "      <td>1</td>\n",
       "    </tr>\n",
       "    <tr>\n",
       "      <th>2</th>\n",
       "      <td>2013-11-29 03:45:04</td>\n",
       "      <td>2</td>\n",
       "      <td>1</td>\n",
       "    </tr>\n",
       "    <tr>\n",
       "      <th>3</th>\n",
       "      <td>2013-12-09 03:45:04</td>\n",
       "      <td>2</td>\n",
       "      <td>1</td>\n",
       "    </tr>\n",
       "    <tr>\n",
       "      <th>4</th>\n",
       "      <td>2013-12-25 03:45:04</td>\n",
       "      <td>2</td>\n",
       "      <td>1</td>\n",
       "    </tr>\n",
       "  </tbody>\n",
       "</table>\n",
       "</div>"
      ],
      "text/plain": [
       "            time_stamp  user_id  visited\n",
       "0  2014-04-22 03:53:30        1        1\n",
       "1  2013-11-15 03:45:04        2        1\n",
       "2  2013-11-29 03:45:04        2        1\n",
       "3  2013-12-09 03:45:04        2        1\n",
       "4  2013-12-25 03:45:04        2        1"
      ]
     },
     "execution_count": 3,
     "metadata": {},
     "output_type": "execute_result"
    }
   ],
   "source": [
    "usage=pd.read_csv('takehome_user_engagement.csv',encoding=\"utf-8\",parse_dates=True,infer_datetime_format=True)\n",
    "usage.info()\n",
    "usage.head()"
   ]
  },
  {
   "cell_type": "markdown",
   "metadata": {},
   "source": [
    "# Data Wrangling\n",
    "\n",
    "## Adopted User\n",
    "\n",
    "Since the aim is to identify which factors predict future user adoption. We first generate the target variable 'adopted_user',  defined as a user who has logged into the product on three separate days in at least one seven-day period. So we calculate the interval between the third and the first login for each user, which if no more than 6 days and no less than 2 days, that user is an adopted user."
   ]
  },
  {
   "cell_type": "code",
   "execution_count": 4,
   "metadata": {},
   "outputs": [
    {
     "name": "stdout",
     "output_type": "stream",
     "text": [
      "Number of login users:  8823\n",
      "Number of users with login times>=3:  2248\n"
     ]
    }
   ],
   "source": [
    "# Number of users with login information\n",
    "print('Number of login users: ',usage.user_id.nunique())\n",
    "\n",
    "# Count the login times for each user\n",
    "user_logintimes=usage.user_id.value_counts().sort_index()\n",
    "\n",
    "# Rule out login times below 3\n",
    "mask_above3=user_logintimes>=3\n",
    "print('Number of users with login times>=3: ',mask_above3.sum())"
   ]
  },
  {
   "cell_type": "markdown",
   "metadata": {},
   "source": [
    "This number of users with login information is consistent with the number of non-null values in 'last_session_creation_time' feature of user table related with last login."
   ]
  },
  {
   "cell_type": "code",
   "execution_count": 5,
   "metadata": {},
   "outputs": [],
   "source": [
    "# Subset the usage table to include only users with login times above or equal to 3\n",
    "id_above3=user_logintimes[mask_above3].index.tolist()\n",
    "usage_sub=usage[usage.user_id.isin(id_above3)].set_index('user_id')\n",
    "usage_sub.time_stamp=pd.to_datetime(usage_sub.time_stamp)\n",
    "\n",
    "\n",
    "# Calculate the differece in days for every other login. If there is at least once that the day-difference \n",
    "#between the first and third login is in 6 days...2 days, the corresponding user is an adopted user.\n",
    "diff_days=usage_sub.groupby('user_id')['time_stamp'].diff(periods=2)\n",
    "id_adopted=diff_days[diff_days.isin([ str(i)+ ' days' for i in range(2,7)])].index.unique().tolist()"
   ]
  },
  {
   "cell_type": "code",
   "execution_count": 6,
   "metadata": {},
   "outputs": [],
   "source": [
    "# Add the 'adopted_user' feature in user data\n",
    "user['adopted_user']=np.where(user.object_id.isin(id_adopted), 1,0)\n",
    "user.set_index('object_id',inplace=True)"
   ]
  },
  {
   "cell_type": "code",
   "execution_count": 7,
   "metadata": {},
   "outputs": [
    {
     "data": {
      "image/png": "[encoded data removed]",
      "text/plain": [
       "<Figure size 720x576 with 1 Axes>"
      ]
     },
     "metadata": {},
     "output_type": "display_data"
    }
   ],
   "source": [
    "def plot_bar(s,xlab,rot=0):\n",
    "    '''customized barplot with the height of bar represening share (in percentage) of that feature'''\n",
    "    ax=s.plot(kind='bar',rot=rot,color='c',figsize=(10,8))\n",
    "    for i, v in enumerate(s):\n",
    "        ax.text( i-0.1,v , str(round(v,1))+'%', color='black', fontweight='bold',fontsize=14)\n",
    "    plt.xlabel(xlab)\n",
    "    plt.ylabel('Percent (%)');\n",
    "    \n",
    "\n",
    "adopt_user_per=user.adopted_user.value_counts(normalize=True)*100\n",
    "\n",
    "plot_bar(adopt_user_per,'Adopted_user',0)\n",
    "\n",
    "\n"
   ]
  },
  {
   "cell_type": "markdown",
   "metadata": {},
   "source": [
    "Most of users (87%) are not adopted users and only 13% are adopted users."
   ]
  },
  {
   "cell_type": "markdown",
   "metadata": {},
   "source": [
    "## Data Cleaning\n",
    "We perform data cleaning in the following steps:\n",
    "1. Check and remove duplicates\n",
    "2. Check and handle missing values\n",
    "3. Clean relevant features"
   ]
  },
  {
   "cell_type": "code",
   "execution_count": 8,
   "metadata": {},
   "outputs": [
    {
     "name": "stdout",
     "output_type": "stream",
     "text": [
      "Number of duplicates:  0\n",
      "Missing values: \n"
     ]
    },
    {
     "data": {
      "text/plain": [
       "creation_time                    0\n",
       "name                             0\n",
       "email                            0\n",
       "creation_source                  0\n",
       "last_session_creation_time    3177\n",
       "opted_in_to_mailing_list         0\n",
       "enabled_for_marketing_drip       0\n",
       "org_id                           0\n",
       "invited_by_user_id            5583\n",
       "adopted_user                     0\n",
       "dtype: int64"
      ]
     },
     "execution_count": 8,
     "metadata": {},
     "output_type": "execute_result"
    }
   ],
   "source": [
    "# Check duplicates\n",
    "print('Number of duplicates: ', user.duplicated().sum())\n",
    "print('Missing values: ')\n",
    "# Check missing values\n",
    "user.isnull().sum()"
   ]
  },
  {
   "cell_type": "markdown",
   "metadata": {},
   "source": [
    "**Summary**<br>\n",
    "There in no duplicated observation.<br>\n",
    "Feature 'last_session_creation_time' and 'invited_by_user_id' have missing values.<br>\n",
    "As a summary, we will work on those features:<br>\n",
    "\n",
    "1. 'email':\n",
    "Which emails users use might be related with login behavior of users. So we simplify the email feature by extracting the host name, i.e., 'gmail', 'yahoo'... \n",
    "\n",
    "2. 'creation_source':\n",
    "This feature will be converted to categorical features.\n",
    "\n",
    "3. 'last_session_creation_time':\n",
    "We will convert into date time type and fill missing values with creation-time.\n",
    "\n",
    "4. 'invited_by_user_id':\n",
    "This feature might affect whether a user will be an adopted user or not. Since the exact user_id who invites might not be important, we will convert it into a categorical variable depending on whether or not invited by users.\n",
    "\n",
    "5. 'org_id':.\n",
    "We will convert it into categorical feature."
   ]
  },
  {
   "cell_type": "markdown",
   "metadata": {},
   "source": [
    "**1. Extract email domains**<br>\n",
    "We will extract domain from email address and convert it to categorical features."
   ]
  },
  {
   "cell_type": "code",
   "execution_count": 9,
   "metadata": {
    "scrolled": true
   },
   "outputs": [
    {
     "data": {
      "text/plain": [
       "gmail.com         3562\n",
       "yahoo.com         2447\n",
       "jourrapide.com    1259\n",
       "cuvox.de          1202\n",
       "gustr.com         1179\n",
       "hotmail.com       1165\n",
       "xvnbr.com            2\n",
       "xybhi.com            2\n",
       "qgjbc.com            2\n",
       "oqpze.com            2\n",
       "Name: email, dtype: int64"
      ]
     },
     "execution_count": 9,
     "metadata": {},
     "output_type": "execute_result"
    }
   ],
   "source": [
    "user.email=user.email.str.split('@',expand=True)[1]\n",
    "user.email.value_counts().head(10)"
   ]
  },
  {
   "cell_type": "markdown",
   "metadata": {},
   "source": [
    "We only keep those emails with domains that occured more than twice and put remaining emails as 'other'."
   ]
  },
  {
   "cell_type": "code",
   "execution_count": 10,
   "metadata": {},
   "outputs": [
    {
     "data": {
      "image/png": "[encoded data removed]",
      "text/plain": [
       "<Figure size 720x576 with 1 Axes>"
      ]
     },
     "metadata": {},
     "output_type": "display_data"
    }
   ],
   "source": [
    "email_keep=user.email.value_counts()[user.email.value_counts()>2].index.tolist()\n",
    "user.email=user.email.apply(lambda x: x if x in email_keep else 'other').astype('category')\n",
    "plot_bar(user.email.value_counts(normalize=True)*100,'user_email',30)"
   ]
  },
  {
   "cell_type": "markdown",
   "metadata": {},
   "source": [
    "**2. Creation_source**"
   ]
  },
  {
   "cell_type": "code",
   "execution_count": 11,
   "metadata": {},
   "outputs": [],
   "source": [
    "user.creation_source=user.creation_source.astype('category')\n",
    "#plot_bar(user.creation_source.value_counts(normalize=True)*100,'creation_source',30)"
   ]
  },
  {
   "cell_type": "markdown",
   "metadata": {},
   "source": [
    "**3. Fix last_session_creation_time**"
   ]
  },
  {
   "cell_type": "code",
   "execution_count": 12,
   "metadata": {},
   "outputs": [],
   "source": [
    "#convert seconds to datetime\n",
    "user.last_session_creation_time=pd.to_datetime(user.last_session_creation_time,unit='s')\n",
    "#find users with no logins\n",
    "id_nologin=user.index[pd.to_datetime(user.last_session_creation_time,unit='s').isnull()].tolist()\n",
    "\n",
    "#fill missing values with creation_time\n",
    "user.last_session_creation_time=[user.last_session_creation_time[i] if i not in id_nologin else user.creation_time[i] for i in range(1,len(user)+1)]\n"
   ]
  },
  {
   "cell_type": "markdown",
   "metadata": {},
   "source": [
    "**4. Binarize invited_by_user_id**"
   ]
  },
  {
   "cell_type": "code",
   "execution_count": 13,
   "metadata": {},
   "outputs": [],
   "source": [
    "user.invited_by_user_id=np.where(user.invited_by_user_id>0,1,0)"
   ]
  },
  {
   "cell_type": "markdown",
   "metadata": {},
   "source": [
    "**5. Convert org_id ** "
   ]
  },
  {
   "cell_type": "code",
   "execution_count": 14,
   "metadata": {
    "scrolled": true
   },
   "outputs": [
    {
     "name": "stdout",
     "output_type": "stream",
     "text": [
      "Number of unique organizations: 417\n"
     ]
    },
    {
     "data": {
      "text/plain": [
       "0     319\n",
       "1     233\n",
       "2     201\n",
       "3     168\n",
       "4     159\n",
       "6     138\n",
       "5     128\n",
       "9     124\n",
       "7     119\n",
       "10    104\n",
       "Name: org_id, dtype: int64"
      ]
     },
     "execution_count": 14,
     "metadata": {},
     "output_type": "execute_result"
    }
   ],
   "source": [
    "print( 'Number of unique organizations:', user.org_id.nunique())\n",
    "user.org_id=user.org_id.astype('category')\n",
    "user.org_id.value_counts().head(10)"
   ]
  },
  {
   "cell_type": "markdown",
   "metadata": {},
   "source": [
    "## Summary Statistics"
   ]
  },
  {
   "cell_type": "code",
   "execution_count": 15,
   "metadata": {},
   "outputs": [
    {
     "name": "stdout",
     "output_type": "stream",
     "text": [
      "<class 'pandas.core.frame.DataFrame'>\n",
      "Int64Index: 12000 entries, 1 to 12000\n",
      "Data columns (total 10 columns):\n",
      "creation_time                 12000 non-null object\n",
      "name                          12000 non-null object\n",
      "email                         12000 non-null category\n",
      "creation_source               12000 non-null category\n",
      "last_session_creation_time    12000 non-null datetime64[ns]\n",
      "opted_in_to_mailing_list      12000 non-null int64\n",
      "enabled_for_marketing_drip    12000 non-null int64\n",
      "org_id                        12000 non-null category\n",
      "invited_by_user_id            12000 non-null int64\n",
      "adopted_user                  12000 non-null int64\n",
      "dtypes: category(3), datetime64[ns](1), int64(4), object(2)\n",
      "memory usage: 1.1+ MB\n"
     ]
    },
    {
     "data": {
      "text/html": [
       "<div>\n",
       "<style scoped>\n",
       "    .dataframe tbody tr th:only-of-type {\n",
       "        vertical-align: middle;\n",
       "    }\n",
       "\n",
       "    .dataframe tbody tr th {\n",
       "        vertical-align: top;\n",
       "    }\n",
       "\n",
       "    .dataframe thead th {\n",
       "        text-align: right;\n",
       "    }\n",
       "</style>\n",
       "<table border=\"1\" class=\"dataframe\">\n",
       "  <thead>\n",
       "    <tr style=\"text-align: right;\">\n",
       "      <th></th>\n",
       "      <th>creation_time</th>\n",
       "      <th>name</th>\n",
       "      <th>email</th>\n",
       "      <th>creation_source</th>\n",
       "      <th>last_session_creation_time</th>\n",
       "      <th>opted_in_to_mailing_list</th>\n",
       "      <th>enabled_for_marketing_drip</th>\n",
       "      <th>org_id</th>\n",
       "      <th>invited_by_user_id</th>\n",
       "      <th>adopted_user</th>\n",
       "    </tr>\n",
       "    <tr>\n",
       "      <th>object_id</th>\n",
       "      <th></th>\n",
       "      <th></th>\n",
       "      <th></th>\n",
       "      <th></th>\n",
       "      <th></th>\n",
       "      <th></th>\n",
       "      <th></th>\n",
       "      <th></th>\n",
       "      <th></th>\n",
       "      <th></th>\n",
       "    </tr>\n",
       "  </thead>\n",
       "  <tbody>\n",
       "    <tr>\n",
       "      <th>1</th>\n",
       "      <td>2014-04-22 03:53:30</td>\n",
       "      <td>Clausen August</td>\n",
       "      <td>yahoo.com</td>\n",
       "      <td>GUEST_INVITE</td>\n",
       "      <td>2014-04-22 03:53:30</td>\n",
       "      <td>1</td>\n",
       "      <td>0</td>\n",
       "      <td>11</td>\n",
       "      <td>1</td>\n",
       "      <td>0</td>\n",
       "    </tr>\n",
       "    <tr>\n",
       "      <th>2</th>\n",
       "      <td>2013-11-15 03:45:04</td>\n",
       "      <td>Poole Matthew</td>\n",
       "      <td>gustr.com</td>\n",
       "      <td>ORG_INVITE</td>\n",
       "      <td>2014-03-31 03:45:04</td>\n",
       "      <td>0</td>\n",
       "      <td>0</td>\n",
       "      <td>1</td>\n",
       "      <td>1</td>\n",
       "      <td>1</td>\n",
       "    </tr>\n",
       "    <tr>\n",
       "      <th>3</th>\n",
       "      <td>2013-03-19 23:14:52</td>\n",
       "      <td>Bottrill Mitchell</td>\n",
       "      <td>gustr.com</td>\n",
       "      <td>ORG_INVITE</td>\n",
       "      <td>2013-03-19 23:14:52</td>\n",
       "      <td>0</td>\n",
       "      <td>0</td>\n",
       "      <td>94</td>\n",
       "      <td>1</td>\n",
       "      <td>0</td>\n",
       "    </tr>\n",
       "    <tr>\n",
       "      <th>4</th>\n",
       "      <td>2013-05-21 08:09:28</td>\n",
       "      <td>Clausen Nicklas</td>\n",
       "      <td>yahoo.com</td>\n",
       "      <td>GUEST_INVITE</td>\n",
       "      <td>2013-05-22 08:09:28</td>\n",
       "      <td>0</td>\n",
       "      <td>0</td>\n",
       "      <td>1</td>\n",
       "      <td>1</td>\n",
       "      <td>0</td>\n",
       "    </tr>\n",
       "    <tr>\n",
       "      <th>5</th>\n",
       "      <td>2013-01-17 10:14:20</td>\n",
       "      <td>Raw Grace</td>\n",
       "      <td>yahoo.com</td>\n",
       "      <td>GUEST_INVITE</td>\n",
       "      <td>2013-01-22 10:14:20</td>\n",
       "      <td>0</td>\n",
       "      <td>0</td>\n",
       "      <td>193</td>\n",
       "      <td>1</td>\n",
       "      <td>0</td>\n",
       "    </tr>\n",
       "  </tbody>\n",
       "</table>\n",
       "</div>"
      ],
      "text/plain": [
       "                 creation_time               name      email creation_source  \\\n",
       "object_id                                                                      \n",
       "1          2014-04-22 03:53:30     Clausen August  yahoo.com    GUEST_INVITE   \n",
       "2          2013-11-15 03:45:04      Poole Matthew  gustr.com      ORG_INVITE   \n",
       "3          2013-03-19 23:14:52  Bottrill Mitchell  gustr.com      ORG_INVITE   \n",
       "4          2013-05-21 08:09:28    Clausen Nicklas  yahoo.com    GUEST_INVITE   \n",
       "5          2013-01-17 10:14:20          Raw Grace  yahoo.com    GUEST_INVITE   \n",
       "\n",
       "          last_session_creation_time  opted_in_to_mailing_list  \\\n",
       "object_id                                                        \n",
       "1                2014-04-22 03:53:30                         1   \n",
       "2                2014-03-31 03:45:04                         0   \n",
       "3                2013-03-19 23:14:52                         0   \n",
       "4                2013-05-22 08:09:28                         0   \n",
       "5                2013-01-22 10:14:20                         0   \n",
       "\n",
       "           enabled_for_marketing_drip org_id  invited_by_user_id  adopted_user  \n",
       "object_id                                                                       \n",
       "1                                   0     11                   1             0  \n",
       "2                                   0      1                   1             1  \n",
       "3                                   0     94                   1             0  \n",
       "4                                   0      1                   1             0  \n",
       "5                                   0    193                   1             0  "
      ]
     },
     "execution_count": 15,
     "metadata": {},
     "output_type": "execute_result"
    }
   ],
   "source": [
    "user.info()\n",
    "user.head()"
   ]
  },
  {
   "cell_type": "code",
   "execution_count": 16,
   "metadata": {},
   "outputs": [
    {
     "data": {
      "text/html": [
       "<div>\n",
       "<style scoped>\n",
       "    .dataframe tbody tr th:only-of-type {\n",
       "        vertical-align: middle;\n",
       "    }\n",
       "\n",
       "    .dataframe tbody tr th {\n",
       "        vertical-align: top;\n",
       "    }\n",
       "\n",
       "    .dataframe thead th {\n",
       "        text-align: right;\n",
       "    }\n",
       "</style>\n",
       "<table border=\"1\" class=\"dataframe\">\n",
       "  <thead>\n",
       "    <tr style=\"text-align: right;\">\n",
       "      <th></th>\n",
       "      <th>creation_time</th>\n",
       "      <th>name</th>\n",
       "      <th>email</th>\n",
       "      <th>creation_source</th>\n",
       "      <th>last_session_creation_time</th>\n",
       "      <th>org_id</th>\n",
       "    </tr>\n",
       "  </thead>\n",
       "  <tbody>\n",
       "    <tr>\n",
       "      <th>count</th>\n",
       "      <td>12000</td>\n",
       "      <td>12000</td>\n",
       "      <td>12000</td>\n",
       "      <td>12000</td>\n",
       "      <td>12000</td>\n",
       "      <td>12000.0</td>\n",
       "    </tr>\n",
       "    <tr>\n",
       "      <th>unique</th>\n",
       "      <td>11996</td>\n",
       "      <td>11355</td>\n",
       "      <td>7</td>\n",
       "      <td>5</td>\n",
       "      <td>11998</td>\n",
       "      <td>417.0</td>\n",
       "    </tr>\n",
       "    <tr>\n",
       "      <th>top</th>\n",
       "      <td>2012-09-01 07:22:09</td>\n",
       "      <td>Araujo Gabriela</td>\n",
       "      <td>gmail.com</td>\n",
       "      <td>ORG_INVITE</td>\n",
       "      <td>2014-06-04 07:46:58</td>\n",
       "      <td>0.0</td>\n",
       "    </tr>\n",
       "    <tr>\n",
       "      <th>freq</th>\n",
       "      <td>2</td>\n",
       "      <td>5</td>\n",
       "      <td>3562</td>\n",
       "      <td>4254</td>\n",
       "      <td>2</td>\n",
       "      <td>319.0</td>\n",
       "    </tr>\n",
       "    <tr>\n",
       "      <th>first</th>\n",
       "      <td>NaN</td>\n",
       "      <td>NaN</td>\n",
       "      <td>NaN</td>\n",
       "      <td>NaN</td>\n",
       "      <td>2012-05-31 08:20:06</td>\n",
       "      <td>NaN</td>\n",
       "    </tr>\n",
       "    <tr>\n",
       "      <th>last</th>\n",
       "      <td>NaN</td>\n",
       "      <td>NaN</td>\n",
       "      <td>NaN</td>\n",
       "      <td>NaN</td>\n",
       "      <td>2014-06-06 14:58:50</td>\n",
       "      <td>NaN</td>\n",
       "    </tr>\n",
       "  </tbody>\n",
       "</table>\n",
       "</div>"
      ],
      "text/plain": [
       "              creation_time             name      email creation_source  \\\n",
       "count                 12000            12000      12000           12000   \n",
       "unique                11996            11355          7               5   \n",
       "top     2012-09-01 07:22:09  Araujo Gabriela  gmail.com      ORG_INVITE   \n",
       "freq                      2                5       3562            4254   \n",
       "first                   NaN              NaN        NaN             NaN   \n",
       "last                    NaN              NaN        NaN             NaN   \n",
       "\n",
       "       last_session_creation_time   org_id  \n",
       "count                       12000  12000.0  \n",
       "unique                      11998    417.0  \n",
       "top           2014-06-04 07:46:58      0.0  \n",
       "freq                            2    319.0  \n",
       "first         2012-05-31 08:20:06      NaN  \n",
       "last          2014-06-06 14:58:50      NaN  "
      ]
     },
     "execution_count": 16,
     "metadata": {},
     "output_type": "execute_result"
    }
   ],
   "source": [
    "user.select_dtypes(exclude='int').describe()"
   ]
  },
  {
   "cell_type": "markdown",
   "metadata": {},
   "source": [
    "# Build Machine Learning Models"
   ]
  },
  {
   "cell_type": "code",
   "execution_count": 17,
   "metadata": {},
   "outputs": [
    {
     "data": {
      "text/plain": [
       "['email',\n",
       " 'creation_source',\n",
       " 'opted_in_to_mailing_list',\n",
       " 'enabled_for_marketing_drip',\n",
       " 'org_id',\n",
       " 'invited_by_user_id']"
      ]
     },
     "execution_count": 17,
     "metadata": {},
     "output_type": "execute_result"
    }
   ],
   "source": [
    "#Select features by dropping some irrelevant ones \n",
    "cols=user.columns.drop(['creation_time', 'name','last_session_creation_time','adopted_user']).tolist()\n",
    "cols"
   ]
  },
  {
   "cell_type": "code",
   "execution_count": 18,
   "metadata": {},
   "outputs": [
    {
     "name": "stderr",
     "output_type": "stream",
     "text": [
      "/Users/phyhouhou/anaconda/lib/python3.6/site-packages/sklearn/model_selection/_split.py:2026: FutureWarning: From version 0.21, test_size will always complement train_size unless both are specified.\n",
      "  FutureWarning)\n"
     ]
    },
    {
     "name": "stdout",
     "output_type": "stream",
     "text": [
      "Accuracy :  93.16666666666666\n",
      "Confusion Matrix:\n",
      " [[3059   59]\n",
      " [ 187  295]]\n",
      "Report :\n",
      "              precision    recall  f1-score   support\n",
      "\n",
      "          0       0.94      0.98      0.96      3118\n",
      "          1       0.83      0.61      0.71       482\n",
      "\n",
      "avg / total       0.93      0.93      0.93      3600\n",
      "\n"
     ]
    }
   ],
   "source": [
    "# Perform one-hot encoding on categorical features and build X and y for feeding into classifier\n",
    "X = pd.get_dummies(user[cols], columns=['email','creation_source','org_id'], drop_first=True)\n",
    "y = user.adopted_user\n",
    "\n",
    "X_train, X_test, y_train, y_test = train_test_split(X, y,train_size=0.7,random_state=100)\n",
    "\n",
    "\n",
    "RF= RandomForestClassifier( )\n",
    "RF.fit(X, y)\n",
    "y_pred=RF.predict(X_test)\n",
    "\n",
    "print (\"Accuracy : \", accuracy_score(y_test,y_pred)*100)\n",
    "print(\"Confusion Matrix:\\n\", confusion_matrix(y_test, y_pred))\n",
    "print(\"Report :\\n\", classification_report(y_test,y_pred))\n",
    "\n"
   ]
  },
  {
   "cell_type": "code",
   "execution_count": 19,
   "metadata": {},
   "outputs": [
    {
     "data": {
      "image/png": "[encoded data removed]",
      "text/plain": [
       "<Figure size 864x720 with 1 Axes>"
      ]
     },
     "metadata": {},
     "output_type": "display_data"
    }
   ],
   "source": [
    "features=X.columns.values.tolist()\n",
    "df=pd.DataFrame({'Features': features, 'Importance': RF.feature_importances_}).sort_values('Importance',ascending=True).set_index('Features')\n",
    "df[-10:].plot(kind='barh',figsize=(12,10))\n",
    "plt.title('Top 10 Important Features Selected by Random Forest Classifier');"
   ]
  },
  {
   "cell_type": "markdown",
   "metadata": {},
   "source": [
    "# Conclusions\n",
    "\n",
    "According to the barplot of feature importance, top predictors are the following:\n",
    "* 'opted_in_to_mailing_list', whether or not user opted into receiving marketing emails.  \n",
    "* 'enabled_for_marketing_drip', whether they are on the regular marketing email drip\n",
    "* 'creation_source', how their account was created, i.e., invited to an organization (as a full member) or signing up via the website\n",
    "* users' emails addresses \n",
    "* whether they are invited by users"
   ]
  }
 ],
 "metadata": {
  "kernelspec": {
   "display_name": "Python 3",
   "language": "python",
   "name": "python3"
  },
  "language_info": {
   "codemirror_mode": {
    "name": "ipython",
    "version": 3
   },
   "file_extension": ".py",
   "mimetype": "text/x-python",
   "name": "python",
   "nbconvert_exporter": "python",
   "pygments_lexer": "ipython3",
   "version": "3.6.5"
  },
  "toc": {
   "nav_menu": {},
   "number_sections": true,
   "sideBar": true,
   "skip_h1_title": false,
   "title_cell": "Table of Contents",
   "title_sidebar": "Contents",
   "toc_cell": false,
   "toc_position": {},
   "toc_section_display": true,
   "toc_window_display": false
  }
 },
 "nbformat": 4,
 "nbformat_minor": 2
}
